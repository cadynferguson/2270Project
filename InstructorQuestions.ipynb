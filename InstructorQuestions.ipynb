{
 "cells": [
  {
   "cell_type": "markdown",
   "id": "daf1a9c0475902ab",
   "metadata": {},
   "source": [
    "# Linear Algebra Project - Markov Chains\n",
    "This is the work I did for question 1d.\n",
    "\n",
    "First we must initialize our transition matrix. The values are given by the weights / sum of weights from that edge."
   ]
  },
  {
   "cell_type": "code",
   "id": "71d80e3b5c287eec",
   "metadata": {},
   "source": [
    "import numpy as np\n",
    "import random\n",
    "\n",
    "P = np.array([\n",
    "    [0.0, 0.75, 0.25, 0.0, 0.0, 0.0],        # A\n",
    "    [3/8, 0.0, 2/8, 0.0, 3/8, 0.0],          # B\n",
    "    [0.0, 2/6, 0.0, 4/6, 0.0, 0.0],          # C\n",
    "    [0.0, 0.0, 4/5, 0.0, 0.0, 1/5],          # D\n",
    "    [0.0, 3/6, 2/6, 0.0, 0.0, 1/6],          # E\n",
    "    [0.0, 0.0, 0.0, .5, .5, 0.0]           # F\n",
    "])"
   ],
   "outputs": [],
   "execution_count": null
  },
  {
   "cell_type": "markdown",
   "id": "bd4c6f03c363cf92",
   "metadata": {},
   "source": [
    "Once initialized we can start making our functions.\n",
    "\n",
    "The first function will be finding the real steady state in order to compare it to our results.\n",
    "The steady state is determined by the equation $\\pi P = \\pi$.\n",
    "We can rearrange this to make it into $\\pi P - \\pi = 0$.\n",
    "This can be turned into $\\pi(A - I) = 0$.\n",
    "We do notice that this is in the form of xA=0 which is not what we want to solve as we need Ax=b. So we will transpose it which then gives us $A^T \\pi^T = 0$.\n",
    "This will work and allow us to use numpy to solve it.\n",
    "We set the last row to be all 1s and the last element of b to be 1. This is because we know that the sum of the steady state vector must equal 1."
   ]
  },
  {
   "cell_type": "code",
   "id": "4fd751fd7f2d0d34",
   "metadata": {},
   "source": [
    "def getSteadyState():\n",
    "    n = len(P)\n",
    "    A = np.transpose(P) - np.eye(n)\n",
    "    A[-1] = np.ones(n)\n",
    "    b = np.zeros(n)\n",
    "    b[-1] = 1\n",
    "    pi = np.linalg.solve(A, b)\n",
    "\n",
    "    return pi"
   ],
   "outputs": [],
   "execution_count": null
  },
  {
   "cell_type": "markdown",
   "id": "2c5889627deac9b9",
   "metadata": {},
   "source": [
    "Next we will use iterative methods to determine what the steady state could be.\n",
    "Through testing the best method I found was a monte-carlo esque method of just iteratively and randomly visiting nodes and keeping track of the visits.\n",
    "Normalizing this gives a pretty close estimate to our steady state.\n",
    "The method used is popularly known as *Monte Carlo estimation of the stationary distribution*"
   ]
  },
  {
   "cell_type": "code",
   "id": "525b22972194c9a3",
   "metadata": {},
   "source": [
    "def simulateSteadyStateVector(start=0, attempts=1_000_000):\n",
    "    state = start\n",
    "    visits = np.zeros(P.shape[0])\n",
    "    for _ in range(attempts):\n",
    "        visits[state] += 1\n",
    "        probabilities = P[state]\n",
    "        state = random.choices(range(len(probabilities)), weights=probabilities)[0]\n",
    "    return visits / np.sum(visits)"
   ],
   "outputs": [],
   "execution_count": null
  },
  {
   "cell_type": "markdown",
   "id": "4e6d8e60430c5478",
   "metadata": {},
   "source": []
  },
  {
   "cell_type": "markdown",
   "id": "e4f6b0a7359425b5",
   "metadata": {},
   "source": [
    "Next we will use an iterative method to estimate the number of steps on average it takes to reach a target from its goal.\n",
    "Knowing that the start and target are able to be changed we will keep the function quite general.\n",
    "We will simply just check how many steps it takes to reach the target from the start over and over and take the average.\n",
    "Another method that could be used is the Euler-Maruyama method but I found this to be simpler."
   ]
  },
  {
   "cell_type": "code",
   "id": "395f52c1fdc9eb6e",
   "metadata": {},
   "source": [
    "def meanFirstPassageTime(start=0, finish=len(P)-1, attempts=10000):\n",
    "    total_steps = 0\n",
    "    for _ in range(attempts):\n",
    "        state = start\n",
    "        steps = 0\n",
    "        while state != finish:\n",
    "            probabilities = P[state]\n",
    "            state = random.choices(range(len(probabilities)), weights=probabilities)[0]\n",
    "            steps += 1\n",
    "        total_steps += steps\n",
    "    return total_steps / attempts\n"
   ],
   "outputs": [],
   "execution_count": null
  },
  {
   "cell_type": "markdown",
   "id": "ef4604d678ac0c92",
   "metadata": {},
   "source": [
    "We can use a very similar method to find the probability of reaching a target from a start node without hitting another node.\n",
    "This is done by just randomly changing the state and making sure its not the other, and if it's the target we up the count.\n"
   ]
  },
  {
   "cell_type": "code",
   "id": "cc338457be281a4c",
   "metadata": {},
   "source": [
    "def reachTargetBeforeOther(target, other, start=0, attempts=10000):\n",
    "    count = 0\n",
    "    for _ in range(attempts):\n",
    "        state = start\n",
    "        while state != target and state != other:\n",
    "            probabilities = P[state]\n",
    "            state = random.choices(range(len(probabilities)), weights=probabilities)[0]\n",
    "        if state == target:\n",
    "            count += 1\n",
    "    return count / attempts\n"
   ],
   "outputs": [],
   "execution_count": null
  },
  {
   "cell_type": "markdown",
   "id": "b7ac15c903d72ed",
   "metadata": {},
   "source": [
    "We can now put together all of our functions to answer the following questions:\n",
    "1. Estimate the probability that A reaches D without hitting C.\n",
    "2. Estimate the expected number of steps for A to reach F.\n",
    "3. Estimate the expected number of steps for B to reach F.\n"
   ]
  },
  {
   "cell_type": "code",
   "id": "39f6a2ff710a8cb9",
   "metadata": {
    "ExecuteTime": {
     "end_time": "2025-04-07T02:32:55.247251Z",
     "start_time": "2025-04-07T02:32:52.452528Z"
    }
   },
   "source": [
    "print(\"Real steady state\" + str(getSteadyState()))\n",
    "print(\"Probability to hit D without htting C: \" + str(reachTargetBeforeOther(3,2) * 100.0)+ \"%\")\n",
    "print(\"Average steps to hit F from A: \" + str(meanFirstPassageTime()))\n",
    "print(\"Average steps to hit F from B: \" + str(meanFirstPassageTime(start=1)))\n",
    "print(\"Estimated Steadystate Vector: \" + str(simulateSteadyStateVector()))\n",
    "print(\"Difference in Steady State vector:\" + str(getSteadyState() - simulateSteadyStateVector()))"
   ],
   "outputs": [
    {
     "name": "stdout",
     "output_type": "stream",
     "text": [
      "Real steady state[0.08097166 0.21592443 0.29554656 0.2294197  0.11336032 0.06477733]\n",
      "Probability to hit D without htting C: 5.2299999999999995%\n",
      "Average steps to hit F from A: 18.1644\n",
      "Average steps to hit F from B: 17.4814\n",
      "Estimated Steadystate Vector: [0.081263 0.215544 0.295868 0.229801 0.112937 0.064587]\n",
      "Difference in Steady State vector:[ 4.46599190e-05  2.34264507e-05 -3.62441296e-04  1.72703104e-04\n",
      "  4.63238866e-05  7.53279352e-05]\n"
     ]
    }
   ],
   "execution_count": 7
  }
 ],
 "metadata": {
  "kernelspec": {
   "display_name": "Python (myenv)",
   "language": "python",
   "name": "myenv"
  },
  "language_info": {
   "codemirror_mode": {
    "name": "ipython",
    "version": 3
   },
   "file_extension": ".py",
   "mimetype": "text/x-python",
   "name": "python",
   "nbconvert_exporter": "python",
   "pygments_lexer": "ipython3",
   "version": "3.13.2"
  }
 },
 "nbformat": 4,
 "nbformat_minor": 5
}
